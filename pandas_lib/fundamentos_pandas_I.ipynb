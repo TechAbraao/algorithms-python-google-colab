{
  "cells": [
    {
      "cell_type": "markdown",
      "metadata": {
        "id": "view-in-github",
        "colab_type": "text"
      },
      "source": [
        "<a href=\"https://colab.research.google.com/github/TechAbraao/algorithms-python-google-colab/blob/main/pandas_lib/fundamentos_pandas_I.ipynb\" target=\"_parent\"><img src=\"https://colab.research.google.com/assets/colab-badge.svg\" alt=\"Open In Colab\"/></a>"
      ]
    },
    {
      "cell_type": "code",
      "source": [
        "# Criando uma função que criará DataFrames\n",
        "# Receberá dois parâmetros: a base de dados e as colunas do Dataframe\n",
        "# pd.DataFrame(dados, columns = listaDasColunas) -> Função do Pandas que cria um DataFrame\n",
        "\n",
        "import pandas as pd\n",
        "from typing import List # Para tipar no Python\n",
        "\n",
        "def createDataFrame(baseData: List[List], columnsData: List[str]) -> pd.DataFrame:\n",
        "  dataFrame = pd.DataFrame(baseData, columns = columnsData)\n",
        "\n",
        "  return dataFrame\n",
        "\n",
        "dataColumns = [\"Nome\", \"Sobrenome\"]\n",
        "data = [[\"Abraão\", \"Santos\"], [\"Caio\", \"César\"], [\"Anthony\", \"Chukwudi\"]]\n",
        "\n",
        "print(createDataFrame(data, dataColumns))"
      ],
      "metadata": {
        "colab": {
          "base_uri": "https://localhost:8080/"
        },
        "id": "2MJMdkBkIPzu",
        "outputId": "7917ed6c-d69b-4c15-f66c-8f4f6e4c48e6"
      },
      "execution_count": 5,
      "outputs": [
        {
          "output_type": "stream",
          "name": "stdout",
          "text": [
            "      Nome Sobrenome\n",
            "0   Abraão    Santos\n",
            "1     Caio     César\n",
            "2  Anthony  Chukwudi\n"
          ]
        }
      ]
    },
    {
      "cell_type": "code",
      "source": [
        "# Criando uma função que retorna o tamanho de um DataFrame\n",
        "\n",
        "import pandas as pd\n",
        "from typing import List\n",
        "\n",
        "dataColumns = [\"Nome\", \"Sobrenome\", \"Idade\"]\n",
        "data = [[\"Abraão\", \"Santos\", \"22\"], [\"Yuri\", \"Alberto\", \"23\"], [\"Anthony\", \"Chukwudi\", \"20\"], [\"Lucas\", \"Vilarindo\", \"20\"]]\n",
        "\n",
        "def sizeDataFrame(dataFrame: pd.DataFrame) -> List[int]:\n",
        "  row = 0\n",
        "  columns = 0\n",
        "  for i in dataFrame:\n",
        "    columns = columns + 1\n",
        "    for j in dataFrame:\n",
        "      row = len(dataFrame[j])\n",
        "  print(f\"Colunas - {columns} e Linhas: {row}\")\n",
        "\n",
        "example = createDataFrame(data, dataColumns)\n",
        "\n",
        "sizeDataFrame(example)"
      ],
      "metadata": {
        "colab": {
          "base_uri": "https://localhost:8080/"
        },
        "id": "9Q3c5eSiLOQD",
        "outputId": "1886a69f-4548-4c84-8bde-64422663ca75"
      },
      "execution_count": 39,
      "outputs": [
        {
          "output_type": "stream",
          "name": "stdout",
          "text": [
            "Colunas - 3 e Linhas: 4\n"
          ]
        }
      ]
    },
    {
      "cell_type": "code",
      "source": [],
      "metadata": {
        "id": "2_NtqYzSO6JP"
      },
      "execution_count": null,
      "outputs": []
    }
  ],
  "metadata": {
    "colab": {
      "name": "Olá, este é o Colaboratory",
      "toc_visible": true,
      "provenance": [],
      "include_colab_link": true
    },
    "kernelspec": {
      "display_name": "Python 3",
      "name": "python3"
    }
  },
  "nbformat": 4,
  "nbformat_minor": 0
}