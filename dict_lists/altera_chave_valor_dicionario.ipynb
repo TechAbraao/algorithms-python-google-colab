{
  "cells": [
    {
      "cell_type": "markdown",
      "metadata": {
        "id": "view-in-github",
        "colab_type": "text"
      },
      "source": [
        "<a href=\"https://colab.research.google.com/github/TechAbraao/algorithms-python-google-colab/blob/main/dict_lists/altera_chave_valor_dicionario.ipynb\" target=\"_parent\"><img src=\"https://colab.research.google.com/assets/colab-badge.svg\" alt=\"Open In Colab\"/></a>"
      ]
    },
    {
      "cell_type": "code",
      "source": [
        "# Uma lista de dicionários, contendo chave-valor\n",
        "lista_livros = [\n",
        "    {\n",
        "        \"titulo\": \"1984\",\n",
        "        \"autor\": \"George Orwell\",\n",
        "        \"categoria\": \"FIC\"\n",
        "    },\n",
        "    {\n",
        "        \"titulo\": \"Uma Breve História do Tempo\",\n",
        "        \"autor\": \"Stephen Hawking\",\n",
        "        \"categoria\": \"SCI\"\n",
        "    },\n",
        "    {\n",
        "        \"titulo\": \"Admirável Mundo Novo\",\n",
        "        \"autor\": \"Aldous Huxley\",\n",
        "        \"categoria\": \"FIC\"\n",
        "    }\n",
        "]"
      ],
      "metadata": {
        "id": "y-Eralgrhs6m"
      },
      "execution_count": 3,
      "outputs": []
    },
    {
      "cell_type": "code",
      "source": [
        "# Visualizando chaves e valores de cada dict respectivamente\n",
        "i = 1;\n",
        "\n",
        "for dict in lista_livros:\n",
        "  print(f\"Dicionário: {i}\")\n",
        "  for key, value in dict.items():\n",
        "    print(f\"Chave: {key} / Valor: {value}\")\n",
        "  i += 1"
      ],
      "metadata": {
        "colab": {
          "base_uri": "https://localhost:8080/"
        },
        "id": "mq_aBwtth6S4",
        "outputId": "9599cb75-74d3-4747-fdc6-c4c8106bc268"
      },
      "execution_count": 8,
      "outputs": [
        {
          "output_type": "stream",
          "name": "stdout",
          "text": [
            "Dicionário: 1\n",
            "Chave: titulo / Valor: 1984\n",
            "Chave: autor / Valor: George Orwell\n",
            "Chave: categoria / Valor: FIC\n",
            "Dicionário: 2\n",
            "Chave: titulo / Valor: Uma Breve História do Tempo\n",
            "Chave: autor / Valor: Stephen Hawking\n",
            "Chave: categoria / Valor: SCI\n",
            "Dicionário: 3\n",
            "Chave: titulo / Valor: Admirável Mundo Novo\n",
            "Chave: autor / Valor: Aldous Huxley\n",
            "Chave: categoria / Valor: FIC\n"
          ]
        }
      ]
    },
    {
      "cell_type": "code",
      "source": [
        "# Dicionário geral de chave e valor que corresponde a transformação dos dados\n",
        "categorias = {\"FIC\": \"Ficção\", \"BIO\": \"Biografia\", \"HIS\": \"História\", \"SCI\": \"Ciência\", \"PHI\": \"Filosofia\"}\n",
        "# Lista que armazenará o novo conjunto de dicionários transformados\n",
        "livros_atualizados = []\n",
        "\n",
        "for livro in lista_livros:\n",
        "    livro_temp = {}\n",
        "    for k, v in livro.items():\n",
        "        if k == \"categoria\":\n",
        "            livro_temp[k] = categorias[v]\n",
        "        else:\n",
        "            livro_temp[k] = v\n",
        "    livros_atualizados.append(livro_temp)"
      ],
      "metadata": {
        "id": "dhgCHUAmiLs_"
      },
      "execution_count": 11,
      "outputs": []
    },
    {
      "cell_type": "code",
      "source": [
        "livros_atualizados"
      ],
      "metadata": {
        "colab": {
          "base_uri": "https://localhost:8080/"
        },
        "id": "botxAjRNjJYc",
        "outputId": "37b55df5-fadc-43cb-f77f-9b571d7a20e4"
      },
      "execution_count": 12,
      "outputs": [
        {
          "output_type": "execute_result",
          "data": {
            "text/plain": [
              "[{'titulo': '1984', 'autor': 'George Orwell', 'categoria': 'Ficção'},\n",
              " {'titulo': 'Uma Breve História do Tempo',\n",
              "  'autor': 'Stephen Hawking',\n",
              "  'categoria': 'Ciência'},\n",
              " {'titulo': 'Admirável Mundo Novo',\n",
              "  'autor': 'Aldous Huxley',\n",
              "  'categoria': 'Ficção'}]"
            ]
          },
          "metadata": {},
          "execution_count": 12
        }
      ]
    }
  ],
  "metadata": {
    "colab": {
      "name": "Olá, este é o Colaboratory",
      "provenance": [],
      "include_colab_link": true
    },
    "kernelspec": {
      "display_name": "Python 3",
      "name": "python3"
    }
  },
  "nbformat": 4,
  "nbformat_minor": 0
}