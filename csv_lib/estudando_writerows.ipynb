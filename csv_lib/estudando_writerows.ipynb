{
  "cells": [
    {
      "cell_type": "markdown",
      "metadata": {
        "id": "view-in-github",
        "colab_type": "text"
      },
      "source": [
        "<a href=\"https://colab.research.google.com/github/TechAbraao/algorithms-python-google-colab/blob/main/csv_lib/estudando_writerows.ipynb\" target=\"_parent\"><img src=\"https://colab.research.google.com/assets/colab-badge.svg\" alt=\"Open In Colab\"/></a>"
      ]
    },
    {
      "cell_type": "code",
      "source": [
        "import csv"
      ],
      "metadata": {
        "id": "J-TyuazG3p0s"
      },
      "execution_count": 14,
      "outputs": []
    },
    {
      "cell_type": "code",
      "source": [
        "data = [[\"Nome\", \"Idade\"], [\"Abraão\", \"21\"], [\"César\", \"29\"], [\"José\", \"34\"]]"
      ],
      "metadata": {
        "id": "QQd4eN8W9Hgv"
      },
      "execution_count": 19,
      "outputs": []
    },
    {
      "cell_type": "code",
      "source": [
        "# Escrevendo o 'data' em um arquivo csv\n",
        "with open('data.csv', 'w') as file:\n",
        "  writer = csv.writer(file)\n",
        "  writer.writerows(data)"
      ],
      "metadata": {
        "id": "SWC0wVPf9ZMf"
      },
      "execution_count": 21,
      "outputs": []
    },
    {
      "cell_type": "code",
      "source": [],
      "metadata": {
        "id": "sZ08u7pn9cN0"
      },
      "execution_count": null,
      "outputs": []
    }
  ],
  "metadata": {
    "colab": {
      "name": "Olá, este é o Colaboratory",
      "toc_visible": true,
      "provenance": [],
      "include_colab_link": true
    },
    "kernelspec": {
      "display_name": "Python 3",
      "name": "python3"
    }
  },
  "nbformat": 4,
  "nbformat_minor": 0
}